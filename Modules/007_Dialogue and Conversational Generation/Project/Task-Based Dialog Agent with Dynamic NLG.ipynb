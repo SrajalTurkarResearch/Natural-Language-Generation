{
 "cells": [
  {
   "cell_type": "markdown",
   "metadata": {},
   "source": [
    "# Task-Based Dialog Agent: Travel Booking with Dynamic NLG\n",
    "\n",
    "This notebook implements a simple task-oriented dialog agent for travel booking. It uses a state machine for dialogue management and dynamic NLG via randomized templates to ensure variability and naturalness. The agent tracks slots (destination, dates, budget) and generates coherent responses.\n",
    "\n",
    "**Key Features:**\n",
    "- Dialogue State Tracker: Maintains slots as a dictionary.\n",
    "- Dialogue Manager: Sequences acts (greet, ask, confirm).\n",
    "- Dynamic NLG: Randomized phrasing for chit-chat infusion.\n",
    "- Memory: Appends history for context.\n",
    "\n",
    "This prototype addresses coherence by enforcing state progression while allowing persona-like flair. Extendable to therapy bots by swapping slots."
   ]
  },
  {
   "cell_type": "code",
   "execution_count": null,
   "metadata": {},
   "outputs": [],
   "source": [
    "import random\n",
    "\n",
    "class TravelBookingAgent:\n",
    "    def __init__(self):\n",
    "        self.state = {\n",
    "            'destination': None,\n",
    "            'departure_date': None,\n",
    "            'return_date': None,\n",
    "            'budget': None\n",
    "        }\n",
    "        self.dialogue_history = []\n",
    "        self.current_act = 'greet'\n",
    "\n",
    "    def generate_response(self, user_input):\n",
    "        self.dialogue_history.append(('user', user_input))\n",
    "        response = ''\n",
    "        \n",
    "        if self.current_act == 'greet':\n",
    "            response = random.choice([\n",
    "                \"Hello! I'm here to help you book a trip. Where would you like to go?\",\n",
    "                \"Hi there! Planning a getaway? Tell me your dream destination.\"\n",
    "            ])\n",
    "            self.current_act = 'ask_destination'\n",
    "        \n",
    "        elif self.current_act == 'ask_destination':\n",
    "            self.state['destination'] = user_input\n",
    "            response = random.choice([\n",
    "                f\"Great choice! {self.state['destination']} sounds exciting. When do you want to depart?\",\n",
    "                f\"{self.state['destination']} is a fantastic spot. What's your departure date?\"\n",
    "            ])\n",
    "            self.current_act = 'ask_departure'\n",
    "        \n",
    "        elif self.current_act == 'ask_departure':\n",
    "            self.state['departure_date'] = user_input\n",
    "            response = random.choice([\n",
    "                f\"Departing on {self.state['departure_date']}. And the return date?\",\n",
    "                f\"Got it, leaving {self.state['departure_date']}. When are you coming back?\"\n",
    "            ])\n",
    "            self.current_act = 'ask_return'\n",
    "        \n",
    "        elif self.current_act == 'ask_return':\n",
    "            self.state['return_date'] = user_input\n",
    "            response = random.choice([\n",
    "                f\"Return on {self.state['return_date']}. What's your budget for this trip?\",\n",
    "                f\"Alright, back by {self.state['return_date']}. How much are you looking to spend?\"\n",
    "            ])\n",
    "            self.current_act = 'ask_budget'\n",
    "        \n",
    "        elif self.current_act == 'ask_budget':\n",
    "            self.state['budget'] = user_input\n",
    "            response = random.choice([\n",
    "                f\"With a budget of {self.state['budget']}, I can find some options for {self.state['destination']}. Booking confirmed!\",\n",
    "                f\"Budget set at {self.state['budget']}. Let's book your trip to {self.state['destination']}!\"\n",
    "            ])\n",
    "            self.current_act = 'end'\n",
    "        \n",
    "        self.dialogue_history.append(('agent', response))\n",
    "        return response"
   ]
  },
  {
   "cell_type": "markdown",
   "metadata": {},
   "source": [
    "## Simulated Conversation\n",
    "\n",
    "Run the cell below to simulate a full conversation. Inputs are hardcoded for demonstration; in practice, replace with user inputs."
   ]
  },
  {
   "cell_type": "code",
   "execution_count": null,
   "metadata": {},
   "outputs": [],
   "source": [
    "agent = TravelBookingAgent()\n",
    "\n",
    "# Start conversation\n",
    "print(\"Agent:\", agent.generate_response(\"\"))  # Initial greet, no input\n",
    "\n",
    "# User responses (simulated)\n",
    "user_inputs = [\"Paris\", \"October 15, 2025\", \"October 25, 2025\", \"1500 USD\"]\n",
    "for user_input in user_inputs:\n",
    "    print(\"User:\", user_input)\n",
    "    print(\"Agent:\", agent.generate_response(user_input))\n",
    "\n",
    "print(\"\\nFinal State:\", agent.state)\n",
    "print(\"Dialogue History:\", agent.dialogue_history)"
   ]
  },
  {
   "cell_type": "markdown",
   "metadata": {},
   "source": [
    "## Extensions\n",
    "\n",
    "- **Therapy Bot Variant:** Replace slots with 'emotion', 'issue', 'goal'. Use empathetic phrasing.\n",
    "- **Integration:** Add APIs for real bookings or transformers for advanced NLG.\n",
    "- **Evaluation:** Test coherence with metrics like BLEU or human judgments."
   ]
  }
 ],
 "metadata": {
  "kernelspec": {
   "display_name": "Python 3",
   "language": "python",
   "name": "python3"
  },
  "language_info": {
   "codemirror_mode": {
    "name": "ipython",
    "version": 3
   },
   "file_extension": ".py",
   "mimetype": "text/x-python",
   "name": "python",
   "nbconvert_exporter": "python",
   "pygments_lexer": "ipython3",
   "version": "3.8.5"
  }
 },
 "nbformat": 4,
 "nbformat_minor": 4
}