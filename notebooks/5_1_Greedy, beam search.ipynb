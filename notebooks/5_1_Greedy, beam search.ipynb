{
  "nbformat": 4,
  "nbformat_minor": 0,
  "metadata": {
    "colab": {
      "provenance": []
    },
    "kernelspec": {
      "name": "python3",
      "display_name": "Python 3"
    },
    "language_info": {
      "name": "python"
    }
  },
  "cells": [
    {
      "cell_type": "markdown",
      "metadata": {
        "id": "view-in-github",
        "colab_type": "text"
      },
      "source": [
        "<a href=\"https://colab.research.google.com/gist/your-gist-id\" target=\"parent\"><img src=\"https://colab.research.google.com/assets/colab-badge.svg\" alt=\"Open In Colab\"/></a>"
      ]
    },
    {
      "cell_type": "markdown",
      "source": [
        "# Advanced Tutorial on Greedy and Beam Search in Natural Language Generation (NLG)\n\nAs a synthesis of minds like Alan Turing, Albert Einstein, and Nikola Tesla—pioneers who bridged theory, engineering, and innovation—I present this IPython Notebook as your comprehensive guide to mastering Greedy and Beam Search in NLG. This is not merely a tutorial; it's a launchpad for your scientific career. We'll weave theory with practical code, visualizations, rare insights from recent research (as of August 2025), real-world applications, projects, and future directions. Assume no prior knowledge beyond basic Python and AI concepts; we'll build from fundamentals.\n\nWhy This Matters for Scientists: Decoding strategies like these are the engines of AI language models. Understanding them deeply enables breakthroughs in efficient AI, ethical NLG, and interdisciplinary applications (e.g., Tesla-inspired autonomous systems generating natural reports). We'll highlight what our previous tutorial omitted: advanced math derivations, error analysis, and integration with modern LLMs.\n\nNotebook Structure:\n1. Theory Recap\n2. Practical Code Guides\n3. Visualizations\n4. Real-World Applications & Case Studies Pointer\n5. Mini & Major Projects\n6. Research Directions & Rare Insights\n7. Future Directions, Next Steps, & Tips\n8. Omitted Essentials for Scientists\n\nRun cells sequentially. Dependencies: torch, numpy, matplotlib (available in most environments)."
      ],
      "metadata": {
        "id": "intro"
      }
    },
    {
      "cell_type": "markdown",
      "source": [
        "## Section 1: Theory Recap\n\n### Greedy Search\n- Core Idea: Selects the highest-probability token at each step (argmax). Fast but myopic—ignores long-term optimality.\n- Math: For sequence $ y = [y_1, ..., y_T] $, $ y_t = \\arg\\max P(y_t | y_{<t}, x) $.\n- Pros/Cons: Efficient (O(T*V)), but prone to repetition or errors (e.g., in translation, picks common but wrong words).\n\n### Beam Search\n- Core Idea: Maintains K hypotheses, expanding and pruning to top-K by cumulative probability.\n- Math: Score = \\sum \\log P(y_t | y_{<t}, x). Keep top-K beams.\n- Pros/Cons: Better quality, but computationally heavier (O(KTV)). Suffers from diversity loss if beams converge.\n\nRare Insight from Research: Recent studies (e.g., arXiv 2024) show beam search degrades with larger beams due to 'length bias'—normalize by sequence length: Score = (1/|y|^\\alpha) * sum log P."
      ],
      "metadata": {
        "id": "theory-recap"
      }
    },
    {
      "cell_type": "code",
      "source": [
        "import torch\n",
        "import torch.nn as nn\n",
        "import torch.nn.functional as F\n",
        "import numpy as np\n",
        "import matplotlib.pyplot as plt\n",
        "from matplotlib import patches\n",
        "\n",
        "# Simple Toy Language Model (LM) using Torch\n",
        "class ToyLM(nn.Module):\n",
        "    def __init__(self, vocab_size=10, embed_dim=5):\n",
        "        super().__init__()\n",
        "        self.embed = nn.Embedding(vocab_size, embed_dim)\n",
        "        self.fc = nn.Linear(embed_dim, vocab_size)\n",
        "    \n",
        "    def forward(self, x):\n",
        "        # Dummy prediction: probs over vocab\n",
        "        embed = self.embed(x)\n",
        "        logits = self.fc(embed.mean(dim=1))  # Aggregate for simplicity\n",
        "        return F.softmax(logits, dim=-1)\n",
        "\n",
        "# Vocabulary for example: indices 0-9 represent words like ['<start>', 'the', 'cat', 'sat', 'on', 'mat', 'hat', '<eos>', 'dog', 'runs']\n",
        "vocab = ['<start>', 'the', 'cat', 'sat', 'on', 'mat', 'hat', '<eos>', 'dog', 'runs']\n",
        "vocab_size = len(vocab)"
      ],
      "metadata": {
        "id": "setup-code"
      },
      "execution_count": null,
      "outputs": []
    },
    {
      "cell_type": "markdown",
      "source": [
        "## Section 2: Practical Code Guides\n\n### Implementing Greedy Search\nLet's code greedy decoding from scratch. We'll use a toy LM that outputs random probs for illustration—replace with real models like torch-based RNN/Transformer."
      ],
      "metadata": {
        "id": "practical-guides"
      }
    },
    {
      "cell_type": "code",
      "source": [
        "def greedy_search(model, start_token, max_len=10):\n",
        "    sequence = [start_token]\n",
        "    with torch.no_grad():\n",
        "        for _ in range(max_len):\n",
        "            input = torch.tensor([sequence])\n",
        "            probs = model(input)  # [1, vocab_size]\n",
        "            next_token = torch.argmax(probs, dim=-1).item()\n",
        "            sequence.append(next_token)\n",
        "            if next_token == 7:  # <eos>\n",
        "                break\n",
        "    return sequence\n",
        "\n",
        "# Example\n",
        "model = ToyLM(vocab_size)\n",
        "seq = greedy_search(model, 0)  # Start with <start>\n",
        "print('Greedy Sequence:', [vocab[i] for i in seq])"
      ],
      "metadata": {
        "id": "greedy-code"
      },
      "execution_count": null,
      "outputs": []
    },
    {
      "cell_type": "markdown",
      "source": [
        "### Implementing Beam Search\nMore complex: Track beams with scores. Use heap for efficiency."
      ],
      "metadata": {
        "id": "beam-intro"
      }
    },
    {
      "cell_type": "code",
      "source": [
        "import heapq\n",
        "\n",
        "def beam_search(model, start_token, beam_width=3, max_len=10):\n",
        "    beams = [([start_token], 0.0)]  # (sequence, log_prob)\n",
        "    with torch.no_grad():\n",
        "        for _ in range(max_len):\n",
        "            new_beams = []\n",
        "            for seq, score in beams:\n",
        "                if seq[-1] == 7:  # <eos>\n",
        "                    new_beams.append((seq, score))\n",
        "                    continue\n",
        "                input = torch.tensor([seq])\n",
        "                probs = model(input).squeeze(0)\n",
        "                top_k = torch.topk(probs, beam_width)\n",
        "                for val, idx in zip(top_k.values, top_k.indices):\n",
        "                    new_seq = seq + [idx.item()]\n",
        "                    new_score = score + torch.log(val).item()\n",
        "                    new_beams.append((new_seq, new_score))\n",
        "            # Prune to top beam_width\n",
        "            beams = heapq.nlargest(beam_width, new_beams, key=lambda x: x[1])\n",
        "    best_seq, _ = max(beams, key=lambda x: x[1])\n",
        "    return best_seq\n",
        "\n",
        "# Example\n",
        "seq = beam_search(model, 0)\n",
        "print('Beam Sequence:', [vocab[i] for i in seq])"
      ],
      "metadata": {
        "id": "beam-code"
      },
      "execution_count": null,
      "outputs": []
    },
    {
      "cell_type": "markdown",
      "source": [
        "## Section 3: Visualizations\n\nVisualize search trees. Greedy: single path. Beam: branching with prunes."
      ],
      "metadata": {
        "id": "visualizations"
      }
    },
    {
      "cell_type": "code",
      "source": [
        "def visualize_tree(sequences, title):\n",
        "    fig, ax = plt.subplots(figsize=(8, 6))\n",
        "    ax.set_title(title)\n",
        "    for i, seq in enumerate(sequences):\n",
        "        for j, token in enumerate(seq[1:]):\n",
        "            ax.add_patch(patches.FancyArrow(j, i, 1, 0, head_width=0.1, color='blue'))\n",
        "            ax.text(j + 0.5, i, vocab[token], ha='center')\n",
        "    ax.axis('off')\n",
        "    plt.show()\n",
        "\n",
        "# For Greedy (single sequence)\n",
        "visualize_tree([seq], 'Greedy Search Tree')\n",
        "\n",
        "# For Beam (multiple hypotheses)\n",
        "# Simulate beams\n",
        "beams_sim = [[0,2,3,4,5], [0,2,8,9], [0,1,6,7]]\n",
        "visualize_tree(beams_sim, 'Beam Search Tree')"
      ],
      "metadata": {
        "id": "viz-code"
      },
      "execution_count": null,
      "outputs": []
    },
    {
      "cell_type": "markdown",
      "source": [
        "## Section 4: Real-World Applications\n\nFrom searches:\n- <strong>Greedy</strong>: Used in real-time chatbots (e.g., early Siri for speed), GPS routing analogies, but in NLG for quick drafts (Quora, Reddit discussions).\n- <strong>Beam</strong>: Machine translation (Google Translate improves accuracy), speech recognition, DNA sequencing parallels.\n- <strong>Insights</strong>: Beam in NLP for chatbots, legal doc translation (Medium articles, 2023-2025).\n\nSee separate <code>case_studies.md</code> for detailed cases like beam in financial reports or greedy pitfalls in operations research."
      ],
      "metadata": {
        "id": "applications"
      }
    },
    {
      "cell_type": "markdown",
      "source": [
        "## Section 5: Mini &#x26; Major Projects\n\n### Mini Project: Text Completion\nImplement greedy/beam for completing 'The cat...' using toy LM. Experiment with vocab probs."
      ],
      "metadata": {
        "id": "projects"
      }
    },
    {
      "cell_type": "code",
      "source": [
        "# Mini Project Code: Modify model to bias probs, e.g., favor 'sat' after 'cat'\n",
        "# Your task: Tune and compare outputs\n",
        "class BiasedToyLM(ToyLM):\n",
        "    def forward(self, x):\n",
        "        probs = super().forward(x)\n",
        "        if x[0][-1] == 2:  # After 'cat'\n",
        "            probs[0][3] += 0.2  # Boost 'sat'\n",
        "            probs /= probs.sum()\n",
        "        return probs\n",
        "\n",
        "biased_model = BiasedToyLM(vocab_size)\n",
        "print('Biased Greedy:', [vocab[i] for i in greedy_search(biased_model, 0)])"
      ],
      "metadata": {
        "id": "mini-project"
      },
      "execution_count": null,
      "outputs": []
    },
    {
      "cell_type": "markdown",
      "source": [
        "### Major Project: Toy Machine Translation\nSimulate translation: Input English tokens, output French-like. Use beam for better coherence. Real-world: Weather report generation (data to text)."
      ],
      "metadata": {
        "id": "major-intro"
      }
    },
    {
      "cell_type": "code",
      "source": [
        "# Major Project Stub: Extend to seq2seq\n",
        "# Input: Weather data [temp, condition]\n",
        "# Output: Generated sentence\n",
        "# Task: Implement full seq2seq with encoder-decoder, use beam\n",
        "print('Project Idea: Build on this for weather NLG - e.g., \"75F sunny\" -> \"It\\'s sunny with 75F.\"')"
      ],
      "metadata": {
        "id": "major-code"
      },
      "execution_count": null,
      "outputs": []
    },
    {
      "cell_type": "markdown",
      "source": [
        "## Section 6: Research Directions &#x26; Rare Insights\n\n<strong>Directions (2024-2025 papers)</strong>: Uncertainty-aware decoding (arXiv 2508), hybrid with diffusion (NAACL 2025), planning in NL (arXiv 2409). X posts highlight regression with decoding, speculative decoding.\n\n<strong>Rare Insights</strong>: Pitfalls - Beam's 'degeneration' (text repetition, arXiv 2204); Greedy's error accumulation (StackExchange). Insight: Combine with self-evaluation (arXiv 2305) for reasoning boosts."
      ],
      "metadata": {
        "id": "research"
      }
    },
    {
      "cell_type": "markdown",
      "source": [
        "## Section 7: Future Directions, Next Steps, &#x26; Tips\n\n<strong>Future</strong>: Integrate with MCTS (Monte Carlo Tree Search) for NLG, adaptive beams via RL (ScienceDirect 2024). Beyond: Multimodal search (text+image).\n\n<strong>Next Steps</strong>: Implement in HuggingFace (if available), test on benchmarks like WMT. Publish on arXiv.\n\n<strong>Tips</strong>: Always normalize logs for stability. For scientists: Profile compute—beam K=4 often sweet spot. Experiment with temperature scaling."
      ],
      "metadata": {
        "id": "future"
      }
    },
    {
      "cell_type": "markdown",
      "source": [
        "## Section 8: Omitted Essentials for Scientists\n\nPrevious tutorial skipped: Viterbi algorithm (dynamic programming analog to beam), length normalization math (\\alpha=0.6 optimal per Google), error metrics (BLEU/ROUGE for NLG eval). Also, ethical NLG: Bias in search (e.g., greedy amplifies stereotypes—mitigate with diverse beams)."
      ],
      "metadata": {
        "id": "omitted"
      }
    }
  ]
}