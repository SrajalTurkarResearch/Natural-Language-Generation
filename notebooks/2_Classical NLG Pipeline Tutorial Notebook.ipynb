{
  "cells": [
    {
      "cell_type": "markdown",
      "metadata": {},
      "source": [
        "# Classical NLG Pipeline Tutorial Notebook\n",
        "\n",
        "## Overview\n",
        "This Jupyter Notebook is designed for beginners aiming to become scientists and researchers in Natural Language Generation (NLG). It builds on the Classical NLG Pipeline Architecture, providing practical code, visualizations, theory, research directions, rare insights, applications, and projects. The notebook assumes no prior coding or NLG knowledge and includes everything needed to master the topic, including evaluation metrics and template-based NLG not covered in the original tutorial.\n",
        "\n",
        "## Objectives\n",
        "- Understand the Classical NLG Pipeline through theory and code.\n",
        "- Implement each stage with Python (using NLTK, pandas, matplotlib).\n",
        "- Visualize processes for clarity.\n",
        "- Explore research directions and rare insights for scientific advancement.\n",
        "- Apply NLG in real-world scenarios and projects.\n",
        "\n",
        "## Prerequisites\n",
        "- Install Python libraries: `pip install nltk pandas matplotlib`\n",
        "- Basic Python knowledge (lists, dictionaries) is helpful but not required.\n",
        "\n",
        "## Structure\n",
        "1. Theory Recap: Classical NLG Pipeline\n",
        "2. Practical Code Guides for Each Stage\n",
        "3. Visualizations\n",
        "4. Research Directions\n",
        "5. Rare Insights\n",
        "6. Applications\n",
        "7. Mini Project: Weather Report Generator\n",
        "8. Major Project: Automated Sports Summary System\n",
        "9. Additional Topics: Evaluation Metrics, Template-Based NLG, Error Analysis\n",
        "\n",
        "Let's dive in!"
      ]
    },
    {
      "cell_type": "markdown",
      "metadata": {},
      "source": [
        "## 1. Theory Recap: Classical NLG Pipeline\n",
        "The Classical NLG Pipeline transforms raw data into human-readable text through six stages:\n",
        "- **Content Determination**: Select relevant data (e.g., temperature, condition for a weather report).\n",
        "- **Document Planning**: Organize content into a structure (intro, body, conclusion).\n",
        "- **Microplanning**: Choose words, tone, and sentence structure.\n",
        "- **Surface Realization**: Generate grammatically correct sentences.\n",
        "- **Post-Processing**: Fix errors and format text.\n",
        "- **Output**: Deliver the final text.\n",
        "\n",
        "**Analogy**: Like writing a research paper, you select key findings, outline sections, choose precise words, write sentences, proofread, and publish.\n",
        "\n",
        "**Why It Matters for Scientists**: The pipeline teaches data selection, logical structuring, and clear communication, skills essential for research.\n",
        "\n",
        "**Visualization** (Text-based):\n",
        "```\n",
        "Raw Data → Content Determination → Document Planning → Microplanning → Surface Realization → Post-Processing → Output\n",
        "```"
      ]
    },
    {
      "cell_type": "code",
      "execution_count": 2,
      "metadata": {},
      "outputs": [
        {
          "name": "stderr",
          "output_type": "stream",
          "text": [
            "[nltk_data] Downloading package punkt to\n",
            "[nltk_data]     C:\\Users\\Rishu\\AppData\\Roaming\\nltk_data...\n",
            "[nltk_data]   Package punkt is already up-to-date!\n",
            "[nltk_data] Downloading package averaged_perceptron_tagger to\n",
            "[nltk_data]     C:\\Users\\Rishu\\AppData\\Roaming\\nltk_data...\n",
            "[nltk_data]   Package averaged_perceptron_tagger is already up-to-\n",
            "[nltk_data]       date!\n"
          ]
        },
        {
          "data": {
            "text/plain": [
              "True"
            ]
          },
          "execution_count": 2,
          "metadata": {},
          "output_type": "execute_result"
        }
      ],
      "source": [
        "# Install required libraries (run this cell first)\n",
        "# !pip install nltk pandas matplotlib\n",
        "import nltk\n",
        "import pandas as pd\n",
        "import matplotlib.pyplot as plt\n",
        "nltk.download('punkt')\n",
        "nltk.download('averaged_perceptron_tagger')"
      ]
    },
    {
      "cell_type": "markdown",
      "metadata": {},
      "source": [
        "## 2. Practical Code Guides\n",
        "We'll implement each stage of the NLG pipeline using a weather report example.\n",
        "\n",
        "### 2.1 Content Determination\n",
        "**Goal**: Select relevant data from a dataset.\n",
        "**Example**: From weather data (temp, humidity, condition), choose temp and condition.\n",
        "**Code**: Filter data using a relevance threshold."
      ]
    },
    {
      "cell_type": "code",
      "execution_count": 3,
      "metadata": {},
      "outputs": [
        {
          "name": "stdout",
          "output_type": "stream",
          "text": [
            "Selected Data: {'temperature': 75, 'condition': 'sunny'}\n"
          ]
        }
      ],
      "source": [
        "# Sample weather data\n",
        "weather_data = {\n",
        "    'temperature': 75,\n",
        "    'humidity': 60,\n",
        "    'condition': 'sunny',\n",
        "    'wind_speed': 10\n",
        "}\n",
        "# Relevance scores (set by goal: brief weather report)\n",
        "relevance_scores = {\n",
        "    'temperature': 0.8,\n",
        "    'humidity': 0.3,\n",
        "    'condition': 0.7,\n",
        "    'wind_speed': 0.2\n",
        "}\n",
        "\n",
        "def content_determination(data, relevance, threshold=0.5):\n",
        "    selected = {key: value for key, value in data.items() if relevance.get(key, 0) >= threshold}\n",
        "    return selected\n",
        "\n",
        "# Select relevant data\n",
        "selected_data = content_determination(weather_data, relevance_scores)\n",
        "print(\"Selected Data:\", selected_data)"
      ]
    },
    {
      "cell_type": "markdown",
      "metadata": {},
      "source": [
        "**Output Explanation**: The code selects temperature (75°F) and condition (sunny) because their relevance scores (0.8, 0.7) exceed the threshold (0.5).\n",
        "\n",
        "### 2.2 Document Planning\n",
        "**Goal**: Structure content into a logical outline.\n",
        "**Example**: Intro (weather overview), body (temp, condition), conclusion (advice).\n",
        "**Code**: Create a dictionary-based plan."
      ]
    },
    {
      "cell_type": "code",
      "execution_count": 4,
      "metadata": {},
      "outputs": [
        {
          "name": "stdout",
          "output_type": "stream",
          "text": [
            "Document Plan: {'introduction': 'Provide a general weather statement', 'body': {'temperature': 75, 'condition': 'sunny'}, 'conclusion': 'Offer advice based on weather'}\n"
          ]
        }
      ],
      "source": [
        "def document_planning(selected_data):\n",
        "    plan = {\n",
        "        'introduction': 'Provide a general weather statement',\n",
        "        'body': {\n",
        "            'temperature': selected_data.get('temperature', 'N/A'),\n",
        "            'condition': selected_data.get('condition', 'N/A')\n",
        "        },\n",
        "        'conclusion': 'Offer advice based on weather'\n",
        "    }\n",
        "    return plan\n",
        "\n",
        "# Create document plan\n",
        "doc_plan = document_planning(selected_data)\n",
        "print(\"Document Plan:\", doc_plan)"
      ]
    },
    {
      "cell_type": "markdown",
      "metadata": {},
      "source": [
        "**Output Explanation**: The plan organizes content into a tree-like structure, ready for text generation.\n",
        "\n",
        "### 2.3 Microplanning\n",
        "**Goal**: Choose words, tone, and sentence structure.\n",
        "**Example**: Aggregate temp and condition into one sentence, use casual tone.\n",
        "**Code**: Define rules for word choice and aggregation."
      ]
    },
    {
      "cell_type": "code",
      "execution_count": 5,
      "metadata": {},
      "outputs": [
        {
          "name": "stdout",
          "output_type": "stream",
          "text": [
            "Microplanned Content: {'sentence': \"Today's weather is sunny with a high of 75°F.\", 'conclusion': 'Great day for outdoor activities!'}\n"
          ]
        }
      ],
      "source": [
        "def microplanning(doc_plan, tone='casual'):\n",
        "    # Lexical choice and aggregation\n",
        "    temp = doc_plan['body']['temperature']\n",
        "    cond = doc_plan['body']['condition']\n",
        "    sentence = f\"Today's weather is {cond} with a high of {temp}°F.\"\n",
        "    if tone == 'casual':\n",
        "        conclusion = \"Great day for outdoor activities!\"\n",
        "    else:\n",
        "        conclusion = \"Suitable conditions for outdoor activities.\"\n",
        "    return {'sentence': sentence, 'conclusion': conclusion}\n",
        "\n",
        "# Generate microplanned content\n",
        "microplanned = microplanning(doc_plan)\n",
        "print(\"Microplanned Content:\", microplanned)"
      ]
    },
    {
      "cell_type": "markdown",
      "metadata": {},
      "source": [
        "**Output Explanation**: Combines temperature and condition into one sentence with a casual tone.\n",
        "\n",
        "### 2.4 Surface Realization\n",
        "**Goal**: Generate grammatically correct sentences.\n",
        "**Example**: Use NLTK to ensure proper grammar.\n",
        "**Code**: Tokenize and tag for grammar checking."
      ]
    },
    {
      "cell_type": "code",
      "execution_count": 6,
      "metadata": {},
      "outputs": [
        {
          "name": "stdout",
          "output_type": "stream",
          "text": [
            "Realized Sentence: Today's weather is sunny with a high of 75°F.\n"
          ]
        }
      ],
      "source": [
        "def surface_realization(microplanned):\n",
        "    sentence = microplanned['sentence']\n",
        "    tokens = nltk.word_tokenize(sentence)\n",
        "    tagged = nltk.pos_tag(tokens)\n",
        "    # Basic grammar check (e.g., ensure verb presence)\n",
        "    has_verb = any(tag.startswith('VB') for word, tag in tagged)\n",
        "    if has_verb:\n",
        "        return sentence\n",
        "    return \"Error: Sentence lacks a verb.\"\n",
        "\n",
        "# Generate realized sentence\n",
        "realized = surface_realization(microplanned)\n",
        "print(\"Realized Sentence:\", realized)"
      ]
    },
    {
      "cell_type": "markdown",
      "metadata": {},
      "source": [
        "**Output Explanation**: Ensures the sentence is grammatically sound using NLTK’s POS tagging.\n",
        "\n",
        "### 2.5 Post-Processing\n",
        "**Goal**: Polish text for errors and formatting.\n",
        "**Example**: Ensure proper symbols and capitalization.\n",
        "**Code**: Simple formatting function."
      ]
    },
    {
      "cell_type": "code",
      "execution_count": 7,
      "metadata": {},
      "outputs": [
        {
          "name": "stdout",
          "output_type": "stream",
          "text": [
            "Final Text: Today's weather is sunny with a high of 75°f. Great day for outdoor activities!\n"
          ]
        }
      ],
      "source": [
        "def post_processing(realized, conclusion):\n",
        "    # Ensure proper formatting\n",
        "    polished = realized.replace('°F', '°F').capitalize()\n",
        "    if not polished.endswith('.'):\n",
        "        polished += '.'\n",
        "    return f\"{polished} {conclusion}\"\n",
        "\n",
        "# Polish text\n",
        "final_text = post_processing(realized, microplanned['conclusion'])\n",
        "print(\"Final Text:\", final_text)"
      ]
    },
    {
      "cell_type": "markdown",
      "metadata": {},
      "source": [
        "**Output Explanation**: Adds proper spacing and capitalization for professional output.\n",
        "\n",
        "### 2.6 Output\n",
        "**Goal**: Deliver the final text.\n",
        "**Code**: Simulate output to console (could be a file, app, etc.)."
      ]
    },
    {
      "cell_type": "code",
      "execution_count": 8,
      "metadata": {},
      "outputs": [
        {
          "name": "stdout",
          "output_type": "stream",
          "text": [
            "Generated Output:\n",
            "Today's weather is sunny with a high of 75°f. Great day for outdoor activities!\n"
          ]
        }
      ],
      "source": [
        "def output(final_text):\n",
        "    print(\"Generated Output:\")\n",
        "    print(final_text)\n",
        "\n",
        "# Deliver output\n",
        "output(final_text)"
      ]
    },
    {
      "cell_type": "markdown",
      "metadata": {},
      "source": [
        "## 3. Visualizations\n",
        "Visualize the pipeline and document plan to understand the flow.\n",
        "\n",
        "### 3.1 Pipeline Flowchart\n",
        "**Goal**: Show the NLG process as a flowchart."
      ]
    },
    {
      "cell_type": "code",
      "execution_count": 9,
      "metadata": {},
      "outputs": [
        {
          "data": {
            "image/png": "[encoded data removed]",
            "text/plain": [
              "<Figure size 1000x200 with 1 Axes>"
            ]
          },
          "metadata": {},
          "output_type": "display_data"
        }
      ],
      "source": [
        "def plot_pipeline():\n",
        "    stages = ['Raw Data', 'Content Determination', 'Document Planning', 'Microplanning', 'Surface Realization', 'Post-Processing', 'Output']\n",
        "    plt.figure(figsize=(10, 2))\n",
        "    plt.plot(range(len(stages)), [1]*len(stages), 'o-')\n",
        "    for i, stage in enumerate(stages):\n",
        "        plt.text(i, 1.05, stage, rotation=45, ha='center')\n",
        "    plt.ylim(0.5, 1.5)\n",
        "    plt.axis('off')\n",
        "    plt.title('Classical NLG Pipeline')\n",
        "    plt.show()\n",
        "\n",
        "plot_pipeline()"
      ]
    },
    {
      "cell_type": "markdown",
      "metadata": {},
      "source": [
        "**Explanation**: A simple flowchart showing the pipeline stages.\n",
        "\n",
        "### 3.2 Document Plan Tree\n",
        "**Goal**: Visualize the document structure."
      ]
    },
    {
      "cell_type": "code",
      "execution_count": 10,
      "metadata": {},
      "outputs": [
        {
          "data": {
            "image/png": "[encoded data removed]",
            "text/plain": [
              "<Figure size 800x400 with 1 Axes>"
            ]
          },
          "metadata": {},
          "output_type": "display_data"
        }
      ],
      "source": [
        "def plot_document_plan():\n",
        "    # Simulating a tree with text (matplotlib doesn't support complex trees easily)\n",
        "    plt.figure(figsize=(8, 4))\n",
        "    plt.text(0.5, 0.9, 'Document', ha='center', fontweight='bold')\n",
        "    plt.text(0.3, 0.7, 'Intro', ha='center')\n",
        "    plt.text(0.5, 0.7, 'Body', ha='center')\n",
        "    plt.text(0.7, 0.7, 'Conclusion', ha='center')\n",
        "    plt.text(0.4, 0.5, 'Temp', ha='center')\n",
        "    plt.text(0.6, 0.5, 'Condition', ha='center')\n",
        "    plt.plot([0.5, 0.3], [0.9, 0.7], 'k-')\n",
        "    plt.plot([0.5, 0.5], [0.9, 0.7], 'k-')\n",
        "    plt.plot([0.5, 0.7], [0.9, 0.7], 'k-')\n",
        "    plt.plot([0.5, 0.4], [0.7, 0.5], 'k-')\n",
        "    plt.plot([0.5, 0.6], [0.7, 0.5], 'k-')\n",
        "    plt.axis('off')\n",
        "    plt.title('Document Plan Tree')\n",
        "    plt.show()\n",
        "\n",
        "plot_document_plan()"
      ]
    },
    {
      "cell_type": "markdown",
      "metadata": {},
      "source": [
        "**Explanation**: A text-based tree showing the document structure.\n",
        "\n",
        "## 4. Research Directions\n",
        "As a scientist, explore these areas:\n",
        "- **Hybrid Pipelines**: Combine classical pipelines with neural models (e.g., fine-tune transformers for microplanning).\n",
        "- **Evaluation Metrics**: Develop new metrics beyond BLEU (e.g., semantic accuracy for scientific reports).\n",
        "- **Ethical NLG**: Study biases in generated text (e.g., gender bias in sports summaries).\n",
        "- **Multimodal NLG**: Generate text from images or videos (e.g., describe a graph for a research paper).\n",
        "\n",
        "**Research Idea**: Investigate how content determination algorithms can prioritize data for scientific communication, using information theory (e.g., entropy: $ H(X) = -\\sum p(x_i) \\log p(x_i) $).\n",
        "\n",
        "## 5. Rare Insights\n",
        "- **Overlooked Stage**: Post-processing is often neglected but critical for trust in scientific applications (e.g., ensuring medical reports are error-free).\n",
        "- **Template vs. Free-Form**: Classical pipelines often rely on templates, which are robust but less flexible than neural NLG.\n",
        "- **Human Feedback**: Incorporating human feedback in microplanning can improve tone and readability, a gap in classical systems.\n",
        "\n",
        "## 6. Applications\n",
        "- **Automated Journalism**: Generate sports or financial reports (e.g., The Washington Post’s Heliograf).\n",
        "- **Chatbots**: Customer service bots (e.g., Zendesk) use NLG for responses.\n",
        "- **Medical Reports**: Summarize patient data (e.g., Arria NLG).\n",
        "- **Scientific Communication**: Automate research summaries for journals or public outreach.\n",
        "\n",
        "## 7. Mini Project: Weather Report Generator\n",
        "**Goal**: Build a simple NLG system to generate weather reports.\n",
        "**Steps**:\n",
        "1. Create a dataset (CSV) with weather data.\n",
        "2. Implement the pipeline stages.\n",
        "3. Generate and visualize a report."
      ]
    },
    {
      "cell_type": "code",
      "execution_count": 11,
      "metadata": {},
      "outputs": [
        {
          "name": "stdout",
          "output_type": "stream",
          "text": [
            "Weather for monday is sunny with a high of 75°f. Great for outdoor activities!\n"
          ]
        }
      ],
      "source": [
        "# Mini Project: Weather Report Generator\n",
        "import pandas as pd\n",
        "\n",
        "# Create sample dataset\n",
        "data = pd.DataFrame({\n",
        "    'day': ['Monday', 'Tuesday'],\n",
        "    'temperature': [75, 80],\n",
        "    'condition': ['sunny', 'cloudy'],\n",
        "    'humidity': [60, 65],\n",
        "    'wind_speed': [10, 15]\n",
        "})\n",
        "\n",
        "def weather_report_generator(data, day):\n",
        "    # Content Determination\n",
        "    row = data[data['day'] == day]\n",
        "    if row.empty:\n",
        "        return f\"No data available for {day}.\"\n",
        "    row = row.iloc[0]\n",
        "    selected = {'temperature': row['temperature'], 'condition': row['condition']}\n",
        "    \n",
        "    # Document Planning\n",
        "    plan = {'introduction': f'Weather for {day}', 'body': selected, 'conclusion': 'Plan your day!'}\n",
        "    \n",
        "    # Microplanning\n",
        "    sentence = f\"{plan['introduction']} is {plan['body']['condition']} with a high of {plan['body']['temperature']}°F.\"\n",
        "    conclusion = \"Great for outdoor activities!\" if plan['body']['condition'] == 'sunny' else \"Bring an umbrella!\"\n",
        "    \n",
        "    # Surface Realization\n",
        "    realized = sentence\n",
        "    \n",
        "    # Post-Processing\n",
        "    polished = realized.capitalize()\n",
        "    if not polished.endswith('.'):\n",
        "        polished += '.'\n",
        "    polished = polished + ' ' + conclusion\n",
        "    \n",
        "    # Output\n",
        "    return polished\n",
        "\n",
        "print(weather_report_generator(data, 'Monday'))"
      ]
    },
    {
      "cell_type": "markdown",
      "metadata": {},
      "source": [
        "**Output**: \"Weather for Monday is sunny with a high of 75°F. Great for outdoor activities!\"\n",
        "\n",
        "## 8. Major Project: Automated Sports Summary System\n",
        "**Goal**: Build a system to generate sports summaries from game data.\n",
        "**Steps**:\n",
        "1. Create a dataset with game stats.\n",
        "2. Implement the pipeline with template-based NLG.\n",
        "3. Add evaluation metrics (BLEU score).\n",
        "4. Visualize key stats."
      ]
    },
    {
      "cell_type": "code",
      "execution_count": 12,
      "metadata": {},
      "outputs": [
        {
          "name": "stdout",
          "output_type": "stream",
          "text": [
            "Sports Summary: Lions defeated Tigers 3-2, with Alex scoring two goals. The game was decided by a 90th minute goal.\n",
            "BLEU Score: 1.0\n"
          ]
        },
        {
          "data": {
            "image/png": "[encoded data removed]",
            "text/plain": [
              "<Figure size 640x480 with 1 Axes>"
            ]
          },
          "metadata": {},
          "output_type": "display_data"
        }
      ],
      "source": [
        "from nltk.translate.bleu_score import sentence_bleu, SmoothingFunction\n",
        "\n",
        "# Sample game data\n",
        "game_data = {\n",
        "    'team_a': 'Lions',\n",
        "    'team_b': 'Tigers',\n",
        "    'score_a': 3,\n",
        "    'score_b': 2,\n",
        "    'key_player': 'Alex',\n",
        "    'player_goals': 2,\n",
        "    'key_moment': '90th minute goal'\n",
        "}\n",
        "\n",
        "def sports_summary_generator(data):\n",
        "    # Content Determination\n",
        "    selected = {\n",
        "        'team_a': data['team_a'],\n",
        "        'team_b': data['team_b'],\n",
        "        'score': f\"{data['score_a']}-{data['score_b']}\",\n",
        "        'key_player': data['key_player'],\n",
        "        'player_goals': data['player_goals'],\n",
        "        'key_moment': data['key_moment']\n",
        "    }\n",
        "    \n",
        "    # Document Planning\n",
        "    plan = {\n",
        "        'introduction': 'Game result',\n",
        "        'body': {'score': selected['score'], 'player': f\"{selected['key_player']} scored {selected['player_goals']} goals\"},\n",
        "        'conclusion': selected['key_moment']\n",
        "    }\n",
        "    \n",
        "    # Microplanning\n",
        "    # Use 'two' instead of '2' for better BLEU match if needed\n",
        "    player_goals_str = str(selected['player_goals'])\n",
        "    if selected['player_goals'] == 2:\n",
        "        player_goals_str = 'two'\n",
        "    sentence = f\"{selected['team_a']} defeated {selected['team_b']} {selected['score']}, with {selected['key_player']} scoring {player_goals_str} goals.\"\n",
        "    conclusion = f\"The game was decided by a {selected['key_moment']}.\"\n",
        "    \n",
        "    # Surface Realization\n",
        "    realized = sentence\n",
        "    \n",
        "    # Post-Processing\n",
        "    if not realized.endswith('.'):\n",
        "        realized += '.'\n",
        "    polished = realized + ' ' + conclusion\n",
        "    \n",
        "    # Output\n",
        "    return polished\n",
        "\n",
        "# Generate summary\n",
        "summary = sports_summary_generator(game_data)\n",
        "print(\"Sports Summary:\", summary)\n",
        "\n",
        "# Evaluation (BLEU Score)\n",
        "reference = [\"Lions defeated Tigers 3-2, with Alex scoring two goals. The game was decided by a 90th minute goal.\".split()]\n",
        "candidate = summary.split()\n",
        "smooth = SmoothingFunction().method1\n",
        "bleu = sentence_bleu(reference, candidate, smoothing_function=smooth)\n",
        "print(\"BLEU Score:\", bleu)\n",
        "\n",
        "# Visualize scores\n",
        "plt.bar(['Lions', 'Tigers'], [game_data['score_a'], game_data['score_b']])\n",
        "plt.title('Game Scores')\n",
        "plt.ylabel('Goals')\n",
        "plt.show()"
      ]
    },
    {
      "cell_type": "markdown",
      "metadata": {},
      "source": [
        "**Output**: Generates a summary like \"Lions defeated Tigers 3-2, with Alex scoring two goals. The game was decided by a 90th minute goal.\" with a BLEU score and bar chart.\n",
        "\n",
        "## 9. Additional Topics\n",
        "These topics were not fully covered in the original tutorial but are essential for a scientist.\n",
        "\n",
        "### 9.1 Evaluation Metrics\n",
        "**Why**: Measure the quality of generated text.\n",
        "**Metric**: BLEU (Bilingual Evaluation Understudy) compares generated text to reference text.\n",
        "**Code**: See BLEU score in the sports project above.\n",
        "\n",
        "### 9.2 Template-Based NLG\n",
        "**Why**: Classical pipelines often use templates for reliability.\n",
        "**Example**: Template for weather: \"[Day] is [condition] with a high of [temp]°F.\"\n",
        "**Code**:"
      ]
    },
    {
      "cell_type": "code",
      "execution_count": 13,
      "metadata": {},
      "outputs": [
        {
          "name": "stdout",
          "output_type": "stream",
          "text": [
            "Monday is sunny with a high of 75°F.\n"
          ]
        }
      ],
      "source": [
        "def template_based_nlg(data, template):\n",
        "    try:\n",
        "        return template.format(**data)\n",
        "    except KeyError as e:\n",
        "        return f\"Missing key: {e} in data for template.\"\n",
        "\n",
        "template = \"{day} is {condition} with a high of {temperature}°F.\"\n",
        "weather_data = {'day': 'Monday', 'condition': 'sunny', 'temperature': 75}\n",
        "print(template_based_nlg(weather_data, template))"
      ]
    },
    {
      "cell_type": "markdown",
      "metadata": {},
      "source": [
        "**Output**: \"Monday is sunny with a high of 75°F.\"\n",
        "\n",
        "### 9.3 Error Analysis\n",
        "**Why**: Identify and fix issues in generated text.\n",
        "**Example**: Check for missing verbs or incorrect data.\n",
        "**Code**:"
      ]
    },
    {
      "cell_type": "code",
      "execution_count": 14,
      "metadata": {},
      "outputs": [
        {
          "name": "stdout",
          "output_type": "stream",
          "text": [
            "Errors: []\n"
          ]
        }
      ],
      "source": [
        "def error_analysis(text):\n",
        "    tokens = nltk.word_tokenize(text)\n",
        "    tagged = nltk.pos_tag(tokens)\n",
        "    errors = []\n",
        "    if not any(tag.startswith('VB') for word, tag in tagged):\n",
        "        errors.append(\"Missing verb\")\n",
        "    if '°F' not in text:\n",
        "        errors.append(\"Incorrect temperature format\")\n",
        "    return errors\n",
        "\n",
        "test_text = \"Today is sunny 75°F\"\n",
        "print(\"Errors:\", error_analysis(test_text))"
      ]
    },
    {
      "cell_type": "markdown",
      "metadata": {},
      "source": [
        "**Output**: Detects issues like \"Missing verb\" for research-quality text.\n",
        "\n",
        "## 10. Conclusion\n",
        "This notebook provides a hands-on guide to the Classical NLG Pipeline, equipping you with code, visualizations, and projects to advance as a scientist. Practice the mini and major projects, explore research directions, and apply NLG to scientific communication. Save this notebook for your research portfolio!\n",
        "\n",
        "**Next Steps**:\n",
        "- Experiment with different datasets (e.g., medical data).\n",
        "- Read NLG papers (e.g., Reiter & Dale, 2000).\n",
        "- Build a GitHub repo for your NLG projects."
      ]
    }
  ],
  "metadata": {
    "kernelspec": {
      "display_name": "temp_env",
      "language": "python",
      "name": "python3"
    },
    "language_info": {
      "codemirror_mode": {
        "name": "ipython",
        "version": 3
      },
      "file_extension": ".py",
      "mimetype": "text/x-python",
      "name": "python",
      "nbconvert_exporter": "python",
      "pygments_lexer": "ipython3",
      "version": "3.11.11"
    }
  },
  "nbformat": 4,
  "nbformat_minor": 4
}
