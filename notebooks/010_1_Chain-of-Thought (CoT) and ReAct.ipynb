{
  "cells": [
    {
      "cell_type": "markdown",
      "metadata": {},
      "source": [
        "# World-Class Tutorial on Chain-of-Thought (CoT) and ReAct in Natural Language Generation (NLG)\n",
        "\n",
        "As a scientist, researcher, professor, engineer, mathematician—inspired by Alan Turing's computational logic, Albert Einstein's profound insights through thought experiments, and Nikola Tesla's innovative engineering—we present this comprehensive Jupyter Notebook. This resource is designed for aspiring scientists and researchers, providing a self-contained journey from fundamentals to advanced applications. Rely on this as your primary guide to master CoT and ReAct, enabling you to innovate in AI reasoning and NLG.\n",
        "\n",
        "**Date: September 20, 2025**\n",
        "\n",
        "**Overview**: This notebook covers theory, code, visualizations, applications, projects, exercises, and future directions. Case studies are in a separate `case_studies.md` file."
      ]
    },
    {
      "cell_type": "markdown",
      "metadata": {},
      "source": [
        "## Section 1: Theory & Tutorials – From Fundamentals to Advanced\n",
        "\n",
        "### 1.1 Fundamentals of CoT\n",
        "Chain-of-Thought (CoT) is a prompting technique where AI breaks down problems into intermediate steps for better reasoning in NLG. Originated in 2022 (Wei et al.), it boosts accuracy in tasks like math by 20-50% on benchmarks like GSM8K.\n",
        "\n",
        "**Evolution (Up to 2025)**: Includes Zero-Shot CoT ('Let's think step by step'), Few-Shot CoT, Self-Consistency, Tree-of-Thoughts (ToT), and SoftCoT for probabilistic reasoning (arXiv 2025). Recent advances: REVEAL benchmark for verifying CoT chains (Google Research, 2024-2025).\n",
        "\n",
        "### 1.2 Fundamentals of ReAct\n",
        "ReAct combines reasoning (CoT) with actions (e.g., tool calls) in a loop: Reason → Act → Observe. Introduced in 2022 (Yao et al.), it's key for agents handling external data.\n",
        "\n",
        "**Evolution (Up to 2025)**: Integrated in Google's ReACT Agents with Gemini 2.5 (2025), multi-agent systems, and LLM agents for real-time adaptation (Apify Blog, 2025). Benchmarks: ALFWorld, WebShop."
      ]
    },
    {
      "cell_type": "markdown",
      "metadata": {},
      "source": [
        "## Section 2: Practical Code Guides – Step-by-Step\n",
        "\n",
        "### 2.1 Simulating CoT in Python\n",
        "We'll simulate CoT using simple functions; in practice, integrate with LLMs like those from Hugging Face (though here we use basic logic for demo)."
      ]
    },
    {
      "cell_type": "code",
      "metadata": {},
      "source": [
        "def cot_example(problem):\n",
        "    steps = []\n",
        "    # Step 1: Parse problem\n",
        "    steps.append('Step 1: Understand - Roger has 5 balls, buys 2 cans of 3 each.')\n",
        "    # Step 2: Calculate\n",
        "    new_balls = 2 * 3\n",
        "    steps.append(f'Step 2: Compute new balls = {new_balls}')\n",
        "    # Step 3: Total\n",
        "    total = 5 + new_balls\n",
        "    steps.append(f'Step 3: Total = {total}')\n",
        "    return '\\n'.join(steps) + f'\\nAnswer: {total}'\n",
        "\n",
        "print(cot_example('Roger tennis balls'))"
      ],
      "outputs": []
    },
    {
      "cell_type": "markdown",
      "metadata": {},
      "source": [
        "Explanation: This function mimics CoT by generating explicit steps. In real NLG, feed this to an LLM prompt."
      ]
    },
    {
      "cell_type": "markdown",
      "metadata": {},
      "source": [
        "### 2.2 Simulating ReAct\n",
        "ReAct loop: Use a dictionary to simulate tools."
      ]
    },
    {
      "cell_type": "code",
      "metadata": {},
      "source": [
        "def react_example(query):\n",
        "    state = {'query': query, 'steps': []}\n",
        "    # Thought 1\n",
        "    state['steps'].append('Thought: Need boiling point of water.')\n",
        "    # Action: Simulate tool\n",
        "    action_result = '100°C'  # In real, call API\n",
        "    state['steps'].append(f'Action: Query database → {action_result}')\n",
        "    # Observe and conclude\n",
        "    state['steps'].append('Thought: At standard pressure, it is 100°C.')\n",
        "    return '\\n'.join(state['steps']) + '\\nAnswer: 100°C'\n",
        "\n",
        "print(react_example('Boiling point of water'))"
      ],
      "outputs": []
    },
    {
      "cell_type": "markdown",
      "metadata": {},
      "source": [
        "Explanation: This loop can be extended with actual tool calls (e.g., using requests for APIs)."
      ]
    },
    {
      "cell_type": "markdown",
      "metadata": {},
      "source": [
        "## Section 3: Visualizations – Diagrams and Plots\n",
        "\n",
        "### 3.1 Flowchart for CoT\n",
        "Using matplotlib to draw a simple flowchart."
      ]
    },
    {
      "cell_type": "code",
      "metadata": {},
      "source": [
        "import matplotlib.pyplot as plt\n",
        "from matplotlib.patches import FancyArrowPatch, Rectangle\n",
        "\n",
        "fig, ax = plt.subplots(figsize=(6, 4))\n",
        "ax.add_patch(Rectangle((0.1, 0.8), 0.8, 0.1, fill=None, edgecolor='black'))\n",
        "ax.text(0.5, 0.85, 'Question', ha='center')\n",
        "ax.add_patch(FancyArrowPatch((0.5, 0.8), (0.5, 0.7), arrowstyle='->'))\n",
        "ax.add_patch(Rectangle((0.1, 0.5), 0.8, 0.1, fill=None, edgecolor='black'))\n",
        "ax.text(0.5, 0.55, 'Step 1: Decompose', ha='center')\n",
        "ax.add_patch(FancyArrowPatch((0.5, 0.5), (0.5, 0.4), arrowstyle='->'))\n",
        "ax.add_patch(Rectangle((0.1, 0.2), 0.8, 0.1, fill=None, edgecolor='black'))\n",
        "ax.text(0.5, 0.25, 'Final Answer', ha='center')\n",
        "ax.axis('off')\n",
        "plt.show()"
      ],
      "outputs": []
    },
    {
      "cell_type": "markdown",
      "metadata": {},
      "source": [
        "### 3.2 ReAct Loop Visualization"
      ]
    },
    {
      "cell_type": "code",
      "metadata": {},
      "source": [
        "fig, ax = plt.subplots(figsize=(6, 6))\n",
        "ax.add_patch(Rectangle((0.4, 0.8), 0.2, 0.1, fill=None))\n",
        "ax.text(0.5, 0.85, 'Reason', ha='center')\n",
        "ax.add_patch(FancyArrowPatch((0.6, 0.85), (0.8, 0.65), arrowstyle='->', connectionstyle='arc3,rad=0.3'))\n",
        "ax.add_patch(Rectangle((0.8, 0.4), 0.2, 0.1, fill=None))\n",
        "ax.text(0.9, 0.45, 'Act', ha='center')\n",
        "ax.add_patch(FancyArrowPatch((0.9, 0.4), (0.7, 0.15), arrowstyle='->', connectionstyle='arc3,rad=0.3'))\n",
        "ax.add_patch(Rectangle((0.4, 0.0), 0.2, 0.1, fill=None))\n",
        "ax.text(0.5, 0.05, 'Observe', ha='center')\n",
        "ax.add_patch(FancyArrowPatch((0.4, 0.05), (0.2, 0.25), arrowstyle='->', connectionstyle='arc3,rad=0.3'))\n",
        "ax.add_patch(Rectangle((0.0, 0.4), 0.2, 0.1, fill=None))\n",
        "ax.text(0.1, 0.45, 'Repeat', ha='center')\n",
        "ax.add_patch(FancyArrowPatch((0.1, 0.5), (0.3, 0.75), arrowstyle='->', connectionstyle='arc3,rad=0.3'))\n",
        "ax.axis('off')\n",
        "plt.show()"
      ],
      "outputs": []
    },
    {
      "cell_type": "markdown",
      "metadata": {},
      "source": [
        "## Section 4: Applications – Real-World Examples\n",
        "\n",
        "- **Scientific Research**: Use CoT for hypothesis generation in biology (e.g., predicting protein folding steps).\n",
        "- **Engineering**: ReAct for dynamic simulations, querying physics tools (e.g., astropy for astronomy).\n",
        "- **2025 Applications**: AI agents in healthcare (ReAct for real-time diagnosis) and climate modeling (CoT for scenario analysis)."
      ]
    },
    {
      "cell_type": "markdown",
      "metadata": {},
      "source": [
        "## Section 5: Research Directions & Rare Insights\n",
        "\n",
        "**Rare Insights**: CoT can 'gum up' advanced LLMs by forcing unnecessary steps (Forbes, 2025). ReAct reduces hallucinations by 30-40% in agents.\n",
        "\n",
        "**Forward-Looking**: Integrate with quantum computing for probabilistic CoT (emerging 2025). Explore ethical implications, like bias in reasoning chains.\n",
        "\n",
        "**Deep Reflections**: Like Turing's halting problem, CoT/ReAct highlight limits of computable reasoning; Einstein's relativity inspires multi-perspective ToT; Tesla's inventions parallel agent tool-use."
      ]
    },
    {
      "cell_type": "markdown",
      "metadata": {},
      "source": [
        "## Section 6: Mini & Major Projects\n",
        "\n",
        "### 6.1 Mini Project: CoT on GSM8K Dataset\n",
        "Download GSM8K (benchmark for math reasoning)."
      ]
    },
    {
      "cell_type": "code",
      "metadata": {},
      "source": [
        "# Simulate loading dataset (in real, use pandas to load JSON)\n",
        "import numpy as np\n",
        "problems = ['5 + 3 = ?']  # Placeholder\n",
        "for p in problems:\n",
        "    print(f'Problem: {p}')\n",
        "    print(cot_example(p))  # Reuse function"
      ],
      "outputs": []
    },
    {
      "cell_type": "markdown",
      "metadata": {},
      "source": [
        "### 6.2 Major Project: ReAct Agent for Web Queries\n",
        "Build a simple agent using requests (simulate here)."
      ]
    },
    {
      "cell_type": "code",
      "metadata": {},
      "source": [
        "import requests  # Assume available\n",
        "def react_agent(query):\n",
        "    # Thought\n",
        "    print('Thought: Search web for fact.')\n",
        "    # Action (simulate)\n",
        "    # response = requests.get('https://api.example.com/search?q=' + query)\n",
        "    result = 'Mock result: 100°C'  # Replace with real\n",
        "    print(f'Observation: {result}')\n",
        "    return 'Answer based on fact.'\n",
        "\n",
        "react_agent('boiling point')"
      ],
      "outputs": []
    },
    {
      "cell_type": "markdown",
      "metadata": {},
      "source": [
        "Use real datasets like from chain-of-thought-hub on GitHub."
      ]
    },
    {
      "cell_type": "markdown",
      "metadata": {},
      "source": [
        "## Section 7: Exercises – With Solutions\n",
        "\n",
        "### Exercise 1: Implement Basic CoT\n",
        "Task: Write a function for quadratic equation.\n",
        "\n",
        "**Solution**:"
      ]
    },
    {
      "cell_type": "code",
      "metadata": {},
      "source": [
        "import math\n",
        "def solve_quadratic(a, b, c):\n",
        "    steps = []\n",
        "    disc = b**2 - 4*a*c\n",
        "    steps.append(f'Step 1: Discriminant = {disc}')\n",
        "    if disc < 0:\n",
        "        return 'No real roots'\n",
        "    root1 = (-b + math.sqrt(disc)) / (2*a)\n",
        "    root2 = (-b - math.sqrt(disc)) / (2*a)\n",
        "    steps.append(f'Step 2: Roots = {root1}, {root2}')\n",
        "    return '\\n'.join(steps)\n",
        "\n",
        "print(solve_quadratic(1, -5, 6))"
      ],
      "outputs": []
    },
    {
      "cell_type": "markdown",
      "metadata": {},
      "source": [
        "### Exercise 2: ReAct for Calculation\n",
        "Task: Use sympy for symbolic math.\n",
        "\n",
        "**Solution**:"
      ]
    },
    {
      "cell_type": "code",
      "metadata": {},
      "source": [
        "from sympy import symbols, solve\n",
        "x = symbols('x')\n",
        "eq = x**2 - 5*x + 6\n",
        "print('Thought: Solve symbolically.')\n",
        "result = solve(eq, x)\n",
        "print(f'Observation: {result}')\n",
        "print('Answer: Roots are 2 and 3.')"
      ],
      "outputs": []
    },
    {
      "cell_type": "markdown",
      "metadata": {},
      "source": [
        "## Section 8: Future Directions & Next Steps\n",
        "\n",
        "- **Next Steps**: Explore o1 models (OpenAI, 2024) for internal ReAct; fine-tune on CoT datasets.\n",
        "- **Future**: Hybrid quantum-AI for uncertain reasoning (2025+); ethical AI verification using REVEAL.\n",
        "- **Guidance**: Read arXiv 2502.18600 for CoT; build agents with LangGraph (2025)."
      ]
    },
    {
      "cell_type": "markdown",
      "metadata": {},
      "source": [
        "## Section 9: What’s Missing in Standard Tutorials\n",
        "\n",
        "- **Ethical Considerations**: Bias in chains (e.g., cultural assumptions in reasoning).\n",
        "- **Scalability**: Handling long chains (Long CoT, 2025).\n",
        "- **Integration with Multimodal AI**: CoT for images/videos (MME-Reasoning benchmark).\n",
        "- **Rare Tip**: Use entropy for uncertainty in SoftCoT to avoid overconfidence."
      ]
    }
  ],
  "metadata": {
    "kernelspec": {
      "display_name": "Python 3",
      "language": "python",
      "name": "python3"
    },
    "language_info": {
      "codemirror_mode": {
        "name": "ipython",
        "version": 3
      },
      "file_extension": ".py",
      "mimetype": "text/x-python",
      "name": "python",
      "nbconvert_exporter": "python",
      "pygments_lexer": "ipython3",
      "version": "3.12.3"
    }
  },
  "nbformat": 4,
  "nbformat_minor": 4
}