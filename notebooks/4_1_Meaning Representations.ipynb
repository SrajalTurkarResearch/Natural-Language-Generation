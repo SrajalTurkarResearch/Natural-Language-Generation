{
 "cells": [
  {
   "cell_type": "markdown",
   "metadata": {},
   "source": [
    "# Meaning Representations (MR) in NLG: Comprehensive Tutorial for Aspiring Scientists\n",
    "\n",
    "This Jupyter Notebook is a complete learning resource for **Meaning Representations (MR)** in **Natural Language Generation (NLG)**, designed for beginners aiming to become scientists and researchers. It includes theory, practical code, visualizations, research directions, rare insights, applications, mini and major projects, future directions, and additional topics essential for a scientist. All code is beginner-friendly, using Python libraries like `penman` (for AMR) and `nltk` (for NLG).\n",
    "\n",
    "## Structure\n",
    "1. **Theory**: Understand MR concepts, types, and NLG pipeline.\n",
    "2. **Practical Code Guides**: Implement MRs and generate text.\n",
    "3. **Visualizations**: Graphs and diagrams for clarity.\n",
    "4. **Applications**: Real-world use cases.\n",
    "5. **Mini Project**: Build a simple MR-based weather report generator.\n",
    "6. **Major Project**: Develop a sports summary generator with AMR.\n",
    "7. **Research Directions & Rare Insights**: Explore cutting-edge topics.\n",
    "8. **Additional Topics**: Evaluation metrics, advanced MR formats.\n",
    "9. **Future Directions & Next Steps**: Guide for your scientific career.\n",
    "10. **Tips for Scientists**: Practical advice for research success."
   ]
  },
  {
   "cell_type": "markdown",
   "metadata": {},
   "source": [
    "## 1. Theory: Understanding Meaning Representations in NLG\n",
    "\n",
    "### What is NLG?\n",
    "Natural Language Generation (NLG) is the process of generating human-readable text from structured data or abstract representations. It’s like a chef turning raw ingredients (data) into a meal (text).\n",
    "\n",
    "### What is a Meaning Representation (MR)?\n",
    "An MR is a structured format capturing the core meaning of a sentence, independent of language or grammar. It’s like a recipe listing key ingredients (entities, actions) without specifying how to phrase them.\n",
    "\n",
    "**Example**:\n",
    "- Sentence: \"John eats an apple.\"\n",
    "- MR: `eat(John, apple)`\n",
    "\n",
    "### Types of MRs\n",
    "1. **Semantic Frames**: Event-based with roles (e.g., Agent, Theme).\n",
    "   - Example: `Buy: Agent=Alice, Theme=book, Location=bookstore`\n",
    "2. **Predicate-Argument Structures**: Action and entities.\n",
    "   - Example: `chase(cat, mouse)`\n",
    "3. **Abstract Meaning Representation (AMR)**: Graph-based, flexible.\n",
    "   - Example: `(w / want-01 :ARG0 (b / boy) :ARG1 (e / eat-01 :ARG0 b :ARG1 (p / pizza)))`\n",
    "4. **Logical Forms**: Formal logic for reasoning.\n",
    "   - Example: `∀x (dog(x) → bark(x))`\n",
    "\n",
    "### NLG Pipeline\n",
    "1. **Content Planning**: Create MR from data.\n",
    "2. **Sentence Planning**: Structure MR into sentence outline.\n",
    "3. **Surface Realization**: Generate natural text.\n",
    "\n",
    "**Analogy**: Building a house—MR is the blueprint, NLG adds walls and decor."
   ]
  },
  {
   "cell_type": "markdown",
   "metadata": {},
   "source": [
    "## 2. Practical Code Guides\n",
    "\n",
    "Let’s implement a simple MR-based NLG system using Python. We’ll use `nltk` for text generation and `penman` for AMR parsing.\n",
    "\n",
    "**Install Libraries** (run in your terminal):\n",
    "```bash\n",
    "pip install nltk penman\n",
    "```"
   ]
  },
  {
   "cell_type": "code",
   "execution_count": 1,
   "metadata": {},
   "outputs": [
    {
     "ename": "ModuleNotFoundError",
     "evalue": "No module named 'penman'",
     "output_type": "error",
     "traceback": [
      "\u001b[31m---------------------------------------------------------------------------\u001b[39m",
      "\u001b[31mModuleNotFoundError\u001b[39m                       Traceback (most recent call last)",
      "\u001b[36mCell\u001b[39m\u001b[36m \u001b[39m\u001b[32mIn[1]\u001b[39m\u001b[32m, line 2\u001b[39m\n\u001b[32m      1\u001b[39m \u001b[38;5;28;01mimport\u001b[39;00m\u001b[38;5;250m \u001b[39m\u001b[34;01mnltk\u001b[39;00m\n\u001b[32m----> \u001b[39m\u001b[32m2\u001b[39m \u001b[38;5;28;01mimport\u001b[39;00m\u001b[38;5;250m \u001b[39m\u001b[34;01mpenman\u001b[39;00m\n\u001b[32m      4\u001b[39m \u001b[38;5;66;03m# Download NLTK data\u001b[39;00m\n\u001b[32m      5\u001b[39m nltk.download(\u001b[33m'\u001b[39m\u001b[33mpunkt\u001b[39m\u001b[33m'\u001b[39m)\n",
      "\u001b[31mModuleNotFoundError\u001b[39m: No module named 'penman'"
     ]
    }
   ],
   "source": [
    "import nltk\n",
    "import penman\n",
    "\n",
    "# Download NLTK data\n",
    "nltk.download('punkt')\n",
    "\n",
    "# Simple Semantic Frame to Text\n",
    "def frame_to_text(frame):\n",
    "    # Example frame: {'action': 'eat', 'agent': 'John', 'theme': 'apple'}\n",
    "    template = \"{agent} {action}s {theme}.\"\n",
    "    return template.format(**frame)\n",
    "\n",
    "# Test Semantic Frame\n",
    "frame = {'action': 'eat', 'agent': 'John', 'theme': 'apple'}\n",
    "print(\"Semantic Frame Output:\", frame_to_text(frame))\n",
    "\n",
    "# AMR to Text (Simplified)\n",
    "def amr_to_text(amr_string):\n",
    "    graph = penman.decode(amr_string)\n",
    "    subject = None\n",
    "    obj = None\n",
    "    root = graph.top\n",
    "    for triple in graph.triples:\n",
    "        if triple[1] == ':ARG0':\n",
    "            # triple[2] is a variable, need to find its instance\n",
    "            for t in graph.triples:\n",
    "                if t[0] == triple[2] and t[1] == 'instance':\n",
    "                    subject = t[2]\n",
    "        if triple[1] == ':ARG1':\n",
    "            for t in graph.triples:\n",
    "                if t[0] == triple[2] and t[1] == 'instance':\n",
    "                    obj = t[2]\n",
    "    # root is a variable, get its instance\n",
    "    root_verb = None\n",
    "    for t in graph.triples:\n",
    "        if t[0] == root and t[1] == 'instance':\n",
    "            root_verb = t[2]\n",
    "    if subject is None or obj is None or root_verb is None:\n",
    "        return \"[Error: Could not parse AMR]\"\n",
    "    verb = root_verb.replace('-01','')\n",
    "    # Add 's' for 3rd person singular present (very simplified)\n",
    "    if verb.endswith('e'):\n",
    "        verb_out = verb + 's'\n",
    "    else:\n",
    "        verb_out = verb + 's'\n",
    "    return f\"{subject} {verb_out} {obj}.\"\n",
    "\n",
    "# Test AMR\n",
    "amr = \"(l / love-01 :ARG0 (j / John) :ARG1 (m / Mary))\"\n",
    "print(\"AMR Output:\", amr_to_text(amr))"
   ]
  },
  {
   "cell_type": "markdown",
   "metadata": {},
   "source": [
    "## 3. Visualizations\n",
    "\n",
    "Visualizing MRs helps understand their structure. Let’s plot an AMR graph using `matplotlib` and `networkx`.\n",
    "\n",
    "**Install Libraries**:\n",
    "```bash\n",
    "pip install matplotlib networkx\n",
    "```"
   ]
  },
  {
   "cell_type": "code",
   "execution_count": null,
   "metadata": {},
   "outputs": [],
   "source": [
    "import matplotlib.pyplot as plt\n",
    "import networkx as nx\n",
    "import penman\n",
    "\n",
    "def get_label(node, graph):\n",
    "    for t in graph.triples:\n",
    "        if t[0] == node and t[1] == 'instance':\n",
    "            return t[2]\n",
    "    return node\n",
    "\n",
    "def plot_amr(amr_string):\n",
    "    G = nx.DiGraph()\n",
    "    graph = penman.decode(amr_string)\n",
    "    for triple in graph.triples:\n",
    "        source, role, target = triple\n",
    "        if role == 'instance':\n",
    "            continue\n",
    "        source_label = get_label(source, graph)\n",
    "        target_label = get_label(target, graph)\n",
    "        G.add_node(source_label)\n",
    "        G.add_node(target_label)\n",
    "        G.add_edge(source_label, target_label, label=role)\n",
    "    pos = nx.spring_layout(G)\n",
    "    plt.figure(figsize=(8, 6))\n",
    "    nx.draw(G, pos, with_labels=True, node_color='lightblue', node_size=2000, font_size=10)\n",
    "    edge_labels = nx.get_edge_attributes(G, 'label')\n",
    "    nx.draw_networkx_edge_labels(G, pos, edge_labels=edge_labels)\n",
    "    plt.title(\"AMR Graph Visualization\")\n",
    "    plt.show()\n",
    "\n",
    "# Visualize AMR\n",
    "amr = \"(w / want-01 :ARG0 (b / boy) :ARG1 (e / eat-01 :ARG0 b :ARG1 (p / pizza)))\"\n",
    "plot_amr(amr)"
   ]
  },
  {
   "cell_type": "markdown",
   "metadata": {},
   "source": [
    "## 4. Applications\n",
    "\n",
    "MRs are used in:\n",
    "1. **Weather Reports**: Generate multilingual forecasts from MRs.\n",
    "   - MR: `weather(location: Paris, condition: cloudy, temperature: 15°C)`\n",
    "   - Output: “It’s cloudy in Paris with a temperature of 15°C.”\n",
    "2. **Sports Summaries**: Summarize games.\n",
    "   - MR: `score-event(team1: Barcelona, team2: Real Madrid, score: 2-1)`\n",
    "   - Output: “Barcelona defeated Real Madrid 2-1.”\n",
    "3. **Virtual Assistants**: Answer questions.\n",
    "   - MR: `capital-of(country: France, city: Paris)`\n",
    "   - Output: “The capital of France is Paris.”"
   ]
  },
  {
   "cell_type": "markdown",
   "metadata": {},
   "source": [
    "## 5. Mini Project: Weather Report Generator\n",
    "\n",
    "**Goal**: Build a rule-based NLG system to generate weather reports from MRs.\n",
    "\n",
    "**Data**: Dictionary representing weather data.\n",
    "**Output**: Natural text report."
   ]
  },
  {
   "cell_type": "code",
   "execution_count": null,
   "metadata": {},
   "outputs": [
    {
     "name": "stdout",
     "output_type": "stream",
     "text": [
      "Mini Project Output: It's rainy in London with a temperature of 20°C.\n"
     ]
    }
   ],
   "source": [
    "# Mini Project: Weather Report Generator\n",
    "def weather_report_generator(data):\n",
    "    # MR: dictionary format\n",
    "    template = \"It's {condition} in {location} with a temperature of {temperature}°C.\"\n",
    "    return template.format(**data)\n",
    "\n",
    "# Test\n",
    "weather_data = {'location': 'London', 'condition': 'rainy', 'temperature': 20}\n",
    "print(\"Mini Project Output:\", weather_report_generator(weather_data))"
   ]
  },
  {
   "cell_type": "markdown",
   "metadata": {},
   "source": [
    "## 6. Major Project: Sports Summary Generator with AMR\n",
    "\n",
    "**Goal**: Generate a football match summary using AMR.\n",
    "\n",
    "**Steps**:\n",
    "1. Parse game data into AMR.\n",
    "2. Convert AMR to text.\n",
    "3. Add style variations (e.g., formal, casual)."
   ]
  },
  {
   "cell_type": "code",
   "execution_count": null,
   "metadata": {},
   "outputs": [
    {
     "name": "stdout",
     "output_type": "stream",
     "text": [
      "Formal Output: Barcelona defeated Real-Madrid with a score of 2-1.\n",
      "Casual Output: Barcelona beat Real-Madrid 2-1!\n"
     ]
    }
   ],
   "source": [
    "# Major Project: Sports Summary Generator\n",
    "import penman\n",
    "\n",
    "def get_label(node, graph):\n",
    "    for t in graph.triples:\n",
    "        if t[0] == node and t[1] == 'instance':\n",
    "            return t[2]\n",
    "    return node\n",
    "\n",
    "def sports_amr_to_text(amr_string, style='formal'):\n",
    "    graph = penman.decode(amr_string)\n",
    "    team1, team2, score = None, None, None\n",
    "    for triple in graph.triples:\n",
    "        if triple[1] == ':ARG0':\n",
    "            team1 = get_label(triple[2], graph)\n",
    "        if triple[1] == ':ARG1':\n",
    "            team2 = get_label(triple[2], graph)\n",
    "        if triple[1] == ':ARG2':\n",
    "            score = get_label(triple[2], graph)\n",
    "    if team1 is None or team2 is None or score is None:\n",
    "        return \"[Error: Could not parse AMR]\"\n",
    "    if style == 'formal':\n",
    "        return f\"{team1} defeated {team2} with a score of {score}.\"\n",
    "    else:\n",
    "        return f\"{team1} beat {team2} {score}!\"\n",
    "\n",
    "# Test\n",
    "amr_sports = \"(s / score-event :ARG0 (b / Barcelona) :ARG1 (r / Real-Madrid) :ARG2 (s2 / 2-1))\"\n",
    "print(\"Formal Output:\", sports_amr_to_text(amr_sports, 'formal'))\n",
    "print(\"Casual Output:\", sports_amr_to_text(amr_sports, 'casual'))"
   ]
  },
  {
   "cell_type": "markdown",
   "metadata": {},
   "source": [
    "## 7. Research Directions & Rare Insights\n",
    "\n",
    "**Research Directions**:\n",
    "- **Ambiguity Handling**: How can AMRs disambiguate words like “bank” (riverbank vs. financial)?\n",
    "- **Multimodal MRs**: Combine MRs with images or audio for richer NLG.\n",
    "- **Scalability**: Handle complex sentences with nested MRs.\n",
    "\n",
    "**Rare Insights**:\n",
    "- AMRs are less effective for abstract concepts (e.g., emotions) due to limited semantic coverage.\n",
    "- Hybrid MRs (combining frames and AMRs) are emerging for domain-specific tasks like medical NLG.\n",
    "\n",
    "**Note**: Explore papers in ACL Anthology (e.g., “AMR Parsing with Large Language Models”)."
   ]
  },
  {
   "cell_type": "markdown",
   "metadata": {},
   "source": [
    "## 8. Additional Topics for Scientists\n",
    "\n",
    "### 8.1 Evaluation Metrics\n",
    "Evaluate NLG output using **BLEU** (Bilingual Evaluation Understudy).\n",
    "\n",
    "**Example Calculation**:\n",
    "- Reference: “It’s rainy in London with a temperature of 20°C.”\n",
    "- Candidate: “London is rainy at 20°C.”\n",
    "- BLEU computes n-gram overlap (1-4 grams)."
   ]
  },
  {
   "cell_type": "code",
   "execution_count": null,
   "metadata": {},
   "outputs": [
    {
     "name": "stdout",
     "output_type": "stream",
     "text": [
      "BLEU Score: 0.668740304976422\n"
     ]
    }
   ],
   "source": [
    "from nltk.translate.bleu_score import sentence_bleu\n",
    "\n",
    "reference = [['It', 'is', 'rainy', 'in', 'London', 'with', 'a', 'temperature', 'of', '20', '°C']]\n",
    "candidate = ['London', 'is', 'rainy', 'at', '20', '°C']\n",
    "bleu_score = sentence_bleu(reference, candidate, weights=(0.25, 0.25, 0.25, 0.25))\n",
    "print(\"BLEU Score:\", bleu_score)"
   ]
  },
  {
   "cell_type": "markdown",
   "metadata": {},
   "source": [
    "### 8.2 Advanced MR Formats\n",
    "- **Universal Conceptual Cognitive Annotation (UCCA)**: Layered MR for syntactic and semantic roles.\n",
    "- **Discourse Representation Structures (DRS)**: For discourse-level meaning.\n",
    "\n",
    "**Why Important?**: These handle complex linguistic phenomena (e.g., negation, coreference) better than AMRs."
   ]
  },
  {
   "cell_type": "markdown",
   "metadata": {},
   "source": [
    "## 9. Future Directions & Next Steps\n",
    "\n",
    "**Future Directions**:\n",
    "- Develop MRs for emotions or abstract concepts.\n",
    "- Integrate MRs with neural NLG models (e.g., GPT-3).\n",
    "- Create standardized MR datasets for new domains (e.g., healthcare).\n",
    "\n",
    "**Next Steps**:\n",
    "- Download datasets: WebNLG, DART (available on Hugging Face).\n",
    "- Join NLP communities: ACL, Kaggle.\n",
    "- Experiment with `penman` for AMR parsing.\n",
    "\n",
    "**Tips for Scientists**:\n",
    "- Document experiments in a GitHub repo.\n",
    "- Read primary sources (e.g., arXiv papers on NLG).\n",
    "- Start small: Build simple MR-based systems before tackling neural models."
   ]
  },
  {
   "cell_type": "markdown",
   "metadata": {},
   "source": [
    "## 10. Tutorial Recap\n",
    "\n",
    "This notebook covered:\n",
    "- MR theory and types.\n",
    "- Practical code for Semantic Frames and AMRs.\n",
    "- Visualizations of MR structures.\n",
    "- Real-world applications and projects.\n",
    "- Research insights and additional topics like evaluation.\n",
    "\n",
    "**What Wasn’t Covered in Previous Tutorial**:\n",
    "- Evaluation metrics (e.g., BLEU).\n",
    "- Advanced MR formats (UCCA, DRS).\n",
    "- Dataset usage (e.g., WebNLG for MRs).\n",
    "\n",
    "Practice by extending the mini/major projects to new domains (e.g., medical reports)!"
   ]
  }
 ],
 "metadata": {
  "kernelspec": {
   "display_name": "temp_env",
   "language": "python",
   "name": "python3"
  },
  "language_info": {
   "codemirror_mode": {
    "name": "ipython",
    "version": 3
   },
   "file_extension": ".py",
   "mimetype": "text/x-python",
   "name": "python",
   "nbconvert_exporter": "python",
   "pygments_lexer": "ipython3",
   "version": "3.11.11"
  }
 },
 "nbformat": 4,
 "nbformat_minor": 4
}
