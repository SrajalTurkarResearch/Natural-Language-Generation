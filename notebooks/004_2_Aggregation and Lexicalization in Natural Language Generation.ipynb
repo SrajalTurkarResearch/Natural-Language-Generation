{
 "cells": [
  {
   "cell_type": "markdown",
   "metadata": {},
   "source": [
    "# Tutorial: Aggregation and Lexicalization in Natural Language Generation (NLG)\n",
    "\n",
    "## Introduction\n",
    "This Jupyter Notebook is your complete guide to mastering **Aggregation** and **Lexicalization** in **Natural Language Generation (NLG)**, designed for a beginner aspiring to become a scientist. NLG is a field in AI where computers generate human-readable text from data. Aggregation combines data points into concise sentences, and lexicalization selects the right words to make text natural. This notebook includes theory, code, visualizations, projects, and research insights to fuel your scientific career.\n",
    "\n",
    "**Why This Matters**: As a scientist, you’ll use NLG to communicate data insights (e.g., in weather apps, medical reports). These skills are key to publishing innovative research and building impactful AI systems.\n",
    "\n",
    "**Structure**:\n",
    "1. Theory and Background\n",
    "2. Practical Code Guides\n",
    "3. Visualizations\n",
    "4. Mini and Major Projects\n",
    "5. Applications and Real-World Examples\n",
    "6. Research Directions and Rare Insights\n",
    "7. Future Directions and Next Steps\n",
    "8. What We Missed (Essential for Scientists)\n",
    "9. Tips for Aspiring Scientists\n",
    "\n",
    "**Analogy**: NLG is like cooking a meal. Aggregation combines ingredients (data) into a dish (sentence), and lexicalization adds spices (words) to make it tasty (natural).\n",
    "\n",
    "Let’s dive in!"
   ]
  },
  {
   "cell_type": "markdown",
   "metadata": {},
   "source": [
    "## 1. Theory and Background\n",
    "\n",
    "### 1.1 What is NLG?\n",
    "NLG transforms structured data (e.g., tables) or knowledge into text. It’s used in chatbots, automated journalism, and more.\n",
    "\n",
    "**Key Steps in NLG**:\n",
    "- **Content Determination**: Decide what to say.\n",
    "- **Document Planning**: Organize information.\n",
    "- **Aggregation**: Combine data points to avoid redundancy.\n",
    "- **Lexicalization**: Choose appropriate words.\n",
    "- **Surface Realization**: Form grammatically correct sentences.\n",
    "\n",
    "### 1.2 Aggregation\n",
    "**Definition**: Combining multiple data points into a concise sentence.\n",
    "**Purpose**: Reduce repetition, improve readability.\n",
    "**Example**:\n",
    "- **Input**: Temp = 22°C, Sky = Sunny.\n",
    "- **Output**: It’s sunny with a temperature of 22°C.\n",
    "\n",
    "**Types**:\n",
    "- Simple Conjunction (e.g., “and”)\n",
    "- Syntactic Coordination (shared subjects/verbs)\n",
    "- Ellipsis (remove redundant words)\n",
    "- Set Introduction (list items)\n",
    "- Temporal/Causal Aggregation (time/cause relationships)\n",
    "\n",
    "### 1.3 Lexicalization\n",
    "**Definition**: Selecting words to express data or concepts.\n",
    "**Purpose**: Make text natural, precise, audience-appropriate.\n",
    "**Example**:\n",
    "- **Input**: Temp = 15°C.\n",
    "- **Output**: It’s cool at 15°C.\n",
    "\n",
    "**Types**:\n",
    "- Concept-to-Word (e.g., 15°C → “cool”)\n",
    "- Entity Naming (e.g., “John” vs. “Person”)\n",
    "- Verb Selection (e.g., “speeds up” vs. “increases”)\n",
    "- Contextual Adaptation (e.g., “high” for public, “hypertension” for doctors)\n",
    "\n",
    "**Analogy**: Aggregation is packing a suitcase efficiently; lexicalization is choosing the right clothes for the trip."
   ]
  },
  {
   "cell_type": "markdown",
   "metadata": {},
   "source": [
    "## 2. Practical Code Guides\n",
    "\n",
    "We’ll use Python with NLTK and pandas to implement basic aggregation and lexicalization. Install dependencies first:\n",
    "\n",
    "```bash\n",
    "pip install nltk pandas matplotlib\n",
    "```\n",
    "\n",
    "### 2.1 Aggregation Example\n",
    "Let’s aggregate weather data into a single sentence."
   ]
  },
  {
   "cell_type": "code",
   "execution_count": 1,
   "metadata": {},
   "outputs": [
    {
     "name": "stdout",
     "output_type": "stream",
     "text": [
      "It's sunny with a temperature of 22°C, wind speed of 5 km/h, and 60% humidity.\n"
     ]
    }
   ],
   "source": [
    "import pandas as pd\n",
    "\n",
    "# Sample weather data\n",
    "data = {\n",
    "    'Temperature': 22,\n",
    "    'Sky': 'Sunny',\n",
    "    'Wind': 5,\n",
    "    'Humidity': 60\n",
    "}\n",
    "\n",
    "def aggregate_weather(data):\n",
    "    # Simple conjunction and syntactic coordination\n",
    "    sentence = f\"It's {data['Sky'].lower()} with a temperature of {data['Temperature']}°C\"\n",
    "    sentence += f\", wind speed of {data['Wind']} km/h, and {data['Humidity']}% humidity.\"\n",
    "    return sentence\n",
    "\n",
    "print(aggregate_weather(data))\n",
    "# Output: It's sunny with a temperature of 22°C, wind speed of 5 km/h, and 60% humidity."
   ]
  },
  {
   "cell_type": "markdown",
   "metadata": {},
   "source": [
    "### 2.2 Lexicalization Example\n",
    "Map numerical data to descriptive words for a weather report."
   ]
  },
  {
   "cell_type": "code",
   "execution_count": 2,
   "metadata": {},
   "outputs": [
    {
     "name": "stdout",
     "output_type": "stream",
     "text": [
      "It's warm at 22°C today.\n"
     ]
    }
   ],
   "source": [
    "def lexicalize_temperature(temp):\n",
    "    # Map temperature to descriptive words\n",
    "    if temp < 10:\n",
    "        return 'cold'\n",
    "    elif 10 <= temp <= 20:\n",
    "        return 'cool'\n",
    "    elif 21 <= temp <= 27:\n",
    "        return 'warm'\n",
    "    else:\n",
    "        return 'hot'\n",
    "\n",
    "def generate_weather_sentence(data):\n",
    "    temp_desc = lexicalize_temperature(data['Temperature'])\n",
    "    return f\"It's {temp_desc} at {data['Temperature']}°C today.\"\n",
    "\n",
    "print(generate_weather_sentence(data))\n",
    "# Output: It's warm at 22°C today."
   ]
  },
  {
   "cell_type": "markdown",
   "metadata": {},
   "source": [
    "## 3. Visualizations\n",
    "\n",
    "Visualizing the NLG process helps understand aggregation and lexicalization.\n",
    "\n",
    "### 3.1 Aggregation Flowchart\n",
    "Let’s plot a flowchart for aggregation."
   ]
  },
  {
   "cell_type": "code",
   "execution_count": 3,
   "metadata": {},
   "outputs": [
    {
     "data": {
      "image/png": "[encoded data removed]",
      "text/plain": [
       "<Figure size 800x600 with 1 Axes>"
      ]
     },
     "metadata": {},
     "output_type": "display_data"
    }
   ],
   "source": [
    "import matplotlib.pyplot as plt\n",
    "from matplotlib.patches import FancyArrowPatch, Rectangle\n",
    "\n",
    "fig, ax = plt.subplots(figsize=(8, 6))\n",
    "\n",
    "# Data points\n",
    "ax.add_patch(Rectangle((0.1, 0.8), 0.2, 0.1, fill=True, color='lightblue'))\n",
    "ax.text(0.2, 0.85, 'Temp: 22°C', ha='center')\n",
    "ax.add_patch(Rectangle((0.4, 0.8), 0.2, 0.1, fill=True, color='lightblue'))\n",
    "ax.text(0.5, 0.85, 'Sky: Sunny', ha='center')\n",
    "\n",
    "# Arrows to aggregation\n",
    "ax.add_patch(FancyArrowPatch((0.2, 0.8), (0.35, 0.6), mutation_scale=20))\n",
    "ax.add_patch(FancyArrowPatch((0.5, 0.8), (0.35, 0.6), mutation_scale=20))\n",
    "\n",
    "# Aggregation process\n",
    "ax.add_patch(Rectangle((0.3, 0.5), 0.2, 0.1, fill=True, color='lightgreen'))\n",
    "ax.text(0.4, 0.55, 'Aggregate', ha='center')\n",
    "\n",
    "# Arrow to output\n",
    "ax.add_patch(FancyArrowPatch((0.4, 0.5), (0.4, 0.3), mutation_scale=20))\n",
    "\n",
    "# Output\n",
    "ax.add_patch(Rectangle((0.1, 0.2), 0.6, 0.1, fill=True, color='lightcoral'))\n",
    "ax.text(0.4, 0.25, 'It’s sunny with 22°C', ha='center')\n",
    "\n",
    "ax.set_xlim(0, 1)\n",
    "ax.set_ylim(0, 1)\n",
    "ax.axis('off')\n",
    "plt.title('Aggregation Flowchart')\n",
    "plt.show()"
   ]
  },
  {
   "cell_type": "markdown",
   "metadata": {},
   "source": [
    "### 3.2 Lexicalization Mapping\n",
    "Visualize temperature-to-word mapping."
   ]
  },
  {
   "cell_type": "code",
   "execution_count": 4,
   "metadata": {},
   "outputs": [
    {
     "data": {
      "image/png": "[encoded data removed]",
      "text/plain": [
       "<Figure size 800x400 with 1 Axes>"
      ]
     },
     "metadata": {},
     "output_type": "display_data"
    }
   ],
   "source": [
    "import numpy as np\n",
    "\n",
    "temps = np.arange(0, 35, 5)\n",
    "descriptions = [lexicalize_temperature(t) for t in temps]\n",
    "\n",
    "plt.figure(figsize=(8, 4))\n",
    "# Fix: Use plt.barh for categorical y-axis (description), or plot as text labels\n",
    "plt.bar(temps, [1]*len(temps), color='skyblue')\n",
    "for t, desc in zip(temps, descriptions):\n",
    "    plt.text(t, 1.02, desc, ha='center', va='bottom', fontsize=12)\n",
    "plt.xlabel('Temperature (°C)')\n",
    "plt.yticks([])\n",
    "plt.title('Lexicalization: Temperature Mapping')\n",
    "plt.ylim(0.95, 1.15)\n",
    "plt.show()"
   ]
  },
  {
   "cell_type": "markdown",
   "metadata": {},
   "source": [
    "## 4. Mini and Major Projects\n",
    "\n",
    "### 4.1 Mini Project: Weather Report Generator\n",
    "**Objective**: Build a simple NLG system for weather reports.\n",
    "**Steps**:\n",
    "1. Create a pandas DataFrame with weather data (Temp, Sky, Wind).\n",
    "2. Write aggregation and lexicalization functions.\n",
    "3. Generate a report.\n",
    "\n",
    "**Code**:\n",
    "```python\n",
    "import pandas as pd\n",
    "\n",
    "data = pd.DataFrame({\n",
    "    'City': ['New York', 'London'],\n",
    "    'Temperature': [20, 15],\n",
    "    'Sky': ['Cloudy', 'Sunny'],\n",
    "    'Wind': [10, 5]\n",
    "})\n",
    "\n",
    "def generate_report(row):\n",
    "    temp_desc = lexicalize_temperature(row['Temperature'])\n",
    "    return f\"In {row['City']}, it's {temp_desc} at {row['Temperature']}°C with {row['Sky'].lower()} skies and winds at {row['Wind']} km/h.\"\n",
    "\n",
    "for _, row in data.iterrows():\n",
    "    print(generate_report(row))\n",
    "```\n",
    "\n",
    "### 4.2 Major Project: Sports Summary Generator\n",
    "**Objective**: Generate a sports match summary.\n",
    "**Steps**:\n",
    "1. Collect match data (scores, player stats).\n",
    "2. Implement aggregation (combine scores and stats).\n",
    "3. Implement lexicalization (e.g., “defeated” for win).\n",
    "4. Use NLTK for sentence planning.\n",
    "\n",
    "**Code Snippet**:\n",
    "```python\n",
    "import nltk\n",
    "nltk.download('punkt')\n",
    "\n",
    "data = {'TeamA': 'Lakers', 'TeamB': 'Celtics', 'ScoreA': 110, 'ScoreB': 105, 'TopScorer': 'LeBron'}\n",
    "\n",
    "def sports_summary(data):\n",
    "    verb = 'defeated' if data['ScoreA'] > data['ScoreB'] else 'lost to'\n",
    "    return f\"{data['TeamA']} {verb} {data['TeamB']} {data['ScoreA']}-{data['ScoreB']}, led by {data['TopScorer']}.\"\n",
    "\n",
    "print(sports_summary(data))\n",
    "```"
   ]
  },
  {
   "cell_type": "markdown",
   "metadata": {},
   "source": [
    "## 5. Applications and Real-World Examples\n",
    "\n",
    "- **Weather Apps**: Aggregate temp, wind, and sky; lexicalize with words like “chilly.”\n",
    "- **Sports Reports**: Combine scores and stats; use engaging verbs like “crushed.”\n",
    "- **Medical Reports**: Aggregate patient metrics; use patient-friendly terms like “high.”\n",
    "- **E-commerce**: Aggregate product details; lexicalize with customer-friendly words."
   ]
  },
  {
   "cell_type": "markdown",
   "metadata": {},
   "source": [
    "## 6. Research Directions and Rare Insights\n",
    "\n",
    "### Research Directions\n",
    "- **Neural NLG**: Use transformers (e.g., GPT) for dynamic aggregation and lexicalization.\n",
    "- **Domain Adaptation**: Tailor lexicalization for specific fields (e.g., medical, legal).\n",
    "- **Evaluation Metrics**: Develop metrics to measure aggregation quality (e.g., redundancy reduction).\n",
    "\n",
    "### Rare Insights\n",
    "- **Cultural Nuances**: Lexicalization must adapt to cultural preferences (e.g., “warm” in one culture might be “hot” in another).\n",
    "- **Over-Aggregation Risk**: Combining too many facts can confuse readers; balance is key.\n",
    "- **Bias in Lexicalization**: Word choices can unintentionally introduce bias (e.g., “aggressive” vs. “assertive”)."
   ]
  },
  {
   "cell_type": "markdown",
   "metadata": {},
   "source": [
    "## 7. Future Directions and Next Steps\n",
    "\n",
    "**Future Directions**:\n",
    "- **Personalized NLG**: Adapt aggregation and lexicalization to user preferences.\n",
    "- **Multilingual NLG**: Extend lexicalization to multiple languages.\n",
    "- **Real-Time NLG**: Optimize for live data streams (e.g., live sports).\n",
    "\n",
    "**Next Steps**:\n",
    "1. Experiment with SimpleNLG or Hugging Face transformers.\n",
    "2. Analyze open datasets (e.g., weather, sports) for NLG practice.\n",
    "3. Join NLG communities (e.g., ACL, INLG) to share your work.\n"
   ]
  },
  {
   "cell_type": "markdown",
   "metadata": {},
   "source": [
    "## 8. What We Missed (Essential for Scientists)\n",
    "\n",
    "The previous tutorial covered basics but missed these advanced topics:\n",
    "- **Discourse Planning**: How aggregation fits into larger text structures (e.g., paragraphs).\n",
    "- **Evaluation**: How to measure NLG quality (e.g., BLEU scores, human evaluation).\n",
    "- **Ethical Considerations**: Avoiding biased or misleading word choices.\n",
    "- **Scalability**: Handling large datasets for aggregation.\n",
    "\n",
    "**Why These Matter**: As a scientist, you’ll need to evaluate your NLG system rigorously and ensure ethical outputs."
   ]
  },
  {
   "cell_type": "markdown",
   "metadata": {},
   "source": [
    "## 9. Tips for Aspiring Scientists\n",
    "\n",
    "- **Experiment**: Build small NLG systems to test ideas.\n",
    "- **Read**: Study “Building Natural Language Generation Systems” by Reiter and Dale.\n",
    "- **Publish**: Share your projects at conferences like ACL.\n",
    "- **Network**: Join AI research groups on platforms like X.\n",
    "- **Stay Curious**: Explore how NLG integrates with machine learning and linguistics."
   ]
  }
 ],
 "metadata": {
  "kernelspec": {
   "display_name": "temp_env",
   "language": "python",
   "name": "python3"
  },
  "language_info": {
   "codemirror_mode": {
    "name": "ipython",
    "version": 3
   },
   "file_extension": ".py",
   "mimetype": "text/x-python",
   "name": "python",
   "nbconvert_exporter": "python",
   "pygments_lexer": "ipython3",
   "version": "3.11.11"
  }
 },
 "nbformat": 4,
 "nbformat_minor": 4
}
